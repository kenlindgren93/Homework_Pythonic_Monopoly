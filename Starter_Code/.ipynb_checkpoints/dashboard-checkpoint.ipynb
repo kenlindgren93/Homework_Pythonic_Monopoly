{
 "cells": [
  {
   "cell_type": "markdown",
   "metadata": {},
   "source": [
    "# San Francisco Rental Prices Dashboard\n",
    "\n",
    "In this notebook, you will compile the visualizations from the previous analysis into functions that can be used for a Panel dashboard."
   ]
  },
  {
   "cell_type": "code",
   "execution_count": 65,
   "metadata": {},
   "outputs": [],
   "source": [
    "# imports\n",
    "import panel as pn\n",
    "pn.extension('plotly')\n",
    "import plotly.express as px\n",
    "import pandas as pd\n",
    "import hvplot.pandas\n",
    "import matplotlib.pyplot as plt\n",
    "import os\n",
    "from pathlib import Path\n",
    "from dotenv import load_dotenv\n",
    "from panel.interact import interact\n",
    "from panel import widgets\n",
    "\n",
    "%matplotlib inline"
   ]
  },
  {
   "cell_type": "code",
   "execution_count": 66,
   "metadata": {},
   "outputs": [],
   "source": [
    "# Read the Mapbox API key\n",
    "load_dotenv()\n",
    "mapbox_token = os.getenv(\"MAPBOX_API_KEY\")"
   ]
  },
  {
   "cell_type": "markdown",
   "metadata": {},
   "source": [
    "# Import Data"
   ]
  },
  {
   "cell_type": "code",
   "execution_count": 67,
   "metadata": {},
   "outputs": [],
   "source": [
    "# Import the CSVs to Pandas DataFrames\n",
    "file_path = Path(\"Data/sfo_neighborhoods_census_data.csv\")\n",
    "sfo_data = pd.read_csv(file_path, index_col=\"year\")\n",
    "\n",
    "file_path = Path(\"Data/neighborhoods_coordinates.csv\")\n",
    "df_neighborhood_locations = pd.read_csv(file_path)"
   ]
  },
  {
   "cell_type": "markdown",
   "metadata": {},
   "source": [
    "- - -"
   ]
  },
  {
   "cell_type": "markdown",
   "metadata": {},
   "source": [
    "## Panel Visualizations\n",
    "\n",
    "In this section, you will copy the code for each plot type from your analysis notebook and place it into separate functions that Panel can use to create panes for the dashboard. \n",
    "\n",
    "These functions will convert the plot object to a Panel pane.\n",
    "\n",
    "Be sure to include any DataFrame transformation/manipulation code required along with the plotting code.\n",
    "\n",
    "Return a Panel pane object from each function that can be used to build the dashboard.\n",
    "\n",
    "Note: Remove any `.show()` lines from the code. We want to return the plots instead of showing them. The Panel dashboard will then display the plots."
   ]
  },
  {
   "cell_type": "code",
   "execution_count": 68,
   "metadata": {},
   "outputs": [],
   "source": [
    "# Define Panel Visualization Functions\n",
    "\n",
    "sfo_grouped_by_year = sfo_data.groupby(['year'])\n",
    "mean_housing_units = sfo_grouped_by_year['housing_units'].mean()\n",
    "\n",
    "\n",
    "def housing_units_per_year():\n",
    "    \"\"\"Housing Units Per Year.\"\"\"\n",
    "    \n",
    "    sfo_grouped_min = sfo_data.groupby(['year'])['housing_units'].min().min()\n",
    "    sfo_grouped_max = sfo_data.groupby(['year'])['housing_units'].max().max()\n",
    "    sfo_grouped_std = sfo_data['housing_units'].std()\n",
    "\n",
    "    first_year = mean_housing_units.index[0]\n",
    "    last_year = mean_housing_units.index[-1]\n",
    "\n",
    "    fig_housing_units = mean_housing_units.plot.bar(\n",
    "        xlim=[first_year, last_year],\n",
    "        ylim=[sfo_grouped_min - sfo_grouped_std, sfo_grouped_max + sfo_grouped_std]\n",
    "    )\n",
    "\n",
    "    fig_housing_units.set_title(\"Housing Units in San Fracisco from 2010 to 2016\")\n",
    "    fig_housing_units.set_xlabel(\"Year\")\n",
    "    fig_housing_units.set_ylabel(\"Housing Units\")\n",
    "    \n",
    "    return fig_housing_units\n",
    "\n",
    "\n",
    "def average_gross_rent():\n",
    "    \"\"\"Average Gross Rent in San Francisco Per Year.\"\"\"\n",
    "    \n",
    "    mean_gross_rent = sfo_grouped_by_year['gross_rent'].mean()\n",
    "    \n",
    "    avg_gross_rent = mean_gross_rent.plot.line()\n",
    "\n",
    "    avg_gross_rent.set_title('Average Gross Rent in San Francisco')\n",
    "    avg_gross_rent.set_xlabel(\"Year\")\n",
    "    avg_gross_rent.set_ylabel(\"Gross Rent\")\n",
    "    \n",
    "    return avg_gross_rent\n",
    "\n",
    "\n",
    "def average_sales_price():\n",
    "    \"\"\"Average Sales Price Per Year.\"\"\"\n",
    "    \n",
    "    mean_price_per_sqft = sfo_grouped_by_year['sale_price_sqr_foot'].mean()\n",
    "    avg_sales_price = mean_price_per_sqft.plot.line()\n",
    "\n",
    "    avg_sales_price.set_title('Average Sale Price Per SqFt in San Francisco')\n",
    "    avg_sales_price.set_xlabel(\"Year\")\n",
    "    avg_sales_price.set_ylabel(\"Avg. Sale Price\")\n",
    "    \n",
    "    return avg_sales_price\n",
    "\n",
    "\n",
    "def average_price_by_neighborhood():\n",
    "    \"\"\"Average Prices by Neighborhood.\"\"\"\n",
    "    \n",
    "    sfo_grouped_year_nei = sfo_data.groupby(['year', 'neighborhood'])\n",
    "    mean_year_nei = sfo_grouped_year_nei.mean()\n",
    "    mean_year_new_nei = mean_year_nei.reset_index()\n",
    "    \n",
    "    neighborhoods = sfo_grouped_year_nei['neighborhood']\n",
    "    \n",
    "    return sfo_grouped_year_nei\n",
    "\n",
    "def avg_price_per_sqft(neighborhood):\n",
    "    return sfo_grouped_year_nei.loc[neighborhoods == neighborhood, 'sale_price_sqr_foot'].plot.line()\n",
    "\n",
    "    interact(avg_price_per_sqft, neighborhood = neighborhoods)\n",
    "\n",
    "\n",
    "def top_most_expensive_neighborhoods():\n",
    "    \"\"\"Top 10 Most Expensive Neighborhoods.\"\"\"\n",
    "    \n",
    "    top_10_most_expensive = sfo_data.groupby(['neighborhood']).mean() \\\n",
    "    .sort_values(by='sale_price_sqr_foot', ascending=False).head(10)\n",
    "    top_10_most_expensive.reset_index(inplace=True)\n",
    "    \n",
    "    top_10_most_expensive.hvplot.bar(\n",
    "    x='neighborhood',\n",
    "    y='sale_price_sqr_foot',\n",
    "    title='Top 10 Most Expensive Neighborhoods in San Francisco',\n",
    "    height=400,\n",
    "    rot=46\n",
    "    )\n",
    "    \n",
    "    return top_10_most_expensive\n",
    "\n",
    "\n",
    "def parallel_coordinates():\n",
    "    \"\"\"Parallel Coordinates Plot.\"\"\"\n",
    "    \n",
    "    top_10_most_expensive = sfo_data.groupby(['neighborhood']).mean() \\\n",
    "    .sort_values(by='sale_price_sqr_foot', ascending=False).head(10)\n",
    "    top_10_most_expensive.reset_index(inplace=True)\n",
    "    \n",
    "    px.parallel_coordinates(top_10_most_expensive, color='sale_price_sqr_foot')\n",
    "    \n",
    "    return top_10_most_expensive\n",
    "\n",
    "\n",
    "def parallel_categories():\n",
    "    \"\"\"Parallel Categories Plot.\"\"\"\n",
    "    \n",
    "    top_10_most_expensive = sfo_data.groupby(['neighborhood']).mean() \\\n",
    "    .sort_values(by='sale_price_sqr_foot', ascending=False).head(10)\n",
    "    top_10_most_expensive.reset_index(inplace=True)\n",
    "    \n",
    "    px.parallel_categories(top_10_most_expensive, color='sale_price_sqr_foot')\n",
    "    \n",
    "    return top_10_most_expensive\n",
    "    \n",
    "\n",
    "def neighborhood_map():\n",
    "    \"\"\"Neighborhood Map\"\"\"\n",
    "    \n",
    "    file_path = Path(\"Data/neighborhoods_coordinates.csv\")\n",
    "    df_neighborhood_locations = pd.read_csv(file_path)\n",
    "\n",
    "    mean_data = sfo_data.groupby('neighborhood').mean()\n",
    "    mean_data.reset_index(inplace=True)\n",
    "\n",
    "    joined_data = pd.concat([df_neighborhood_locations, mean_data], axis='columns', join='inner')\n",
    "    joined_data = joined_data.iloc[:, 1:]\n",
    "\n",
    "    px.set_mapbox_access_token(mapbox_token)\n",
    "    map = px.scatter_mapbox(\n",
    "        joined_data,\n",
    "        lat='Lat',\n",
    "        lon='Lon',\n",
    "        size='sale_price_sqr_foot',\n",
    "        color='gross_rent'\n",
    "    )\n",
    "\n",
    "    return joined_data"
   ]
  },
  {
   "cell_type": "markdown",
   "metadata": {},
   "source": [
    "## Panel Dashboard\n",
    "\n",
    "In this section, you will combine all of the plots into a single dashboard view using Panel. Be creative with your dashboard design!"
   ]
  },
  {
   "cell_type": "code",
   "execution_count": 69,
   "metadata": {},
   "outputs": [
    {
     "data": {},
     "metadata": {},
     "output_type": "display_data"
    },
    {
     "data": {
      "application/vnd.holoviews_exec.v0+json": "",
      "text/html": [
       "<div id='1355'>\n",
       "\n",
       "\n",
       "\n",
       "\n",
       "\n",
       "  <div class=\"bk-root\" id=\"05b3b4c2-01e5-40fc-96cd-0974fee435a2\" data-root-id=\"1355\"></div>\n",
       "</div>\n",
       "<script type=\"application/javascript\">(function(root) {\n",
       "  function embed_document(root) {\n",
       "  var docs_json = {\"d82fa5bf-4f0c-4577-b823-9e82a63a603b\":{\"roots\":{\"references\":[{\"attributes\":{\"margin\":[5,5,5,5],\"name\":\"interactive02753\",\"text\":\"&lt;table border=&quot;0&quot; class=&quot;dataframe panel-df&quot;&gt;\\n  &lt;thead&gt;\\n    &lt;tr style=&quot;text-align: right;&quot;&gt;\\n      &lt;th&gt;&lt;/th&gt;\\n      &lt;th&gt;neighborhood&lt;/th&gt;\\n      &lt;th&gt;sale_price_sqr_foot&lt;/th&gt;\\n      &lt;th&gt;housing_units&lt;/th&gt;\\n      &lt;th&gt;gross_rent&lt;/th&gt;\\n    &lt;/tr&gt;\\n  &lt;/thead&gt;\\n  &lt;tbody&gt;\\n    &lt;tr&gt;\\n      &lt;th&gt;0&lt;/th&gt;\\n      &lt;td&gt;Union Square District&lt;/td&gt;\\n      &lt;td&gt;903.993258&lt;/td&gt;\\n      &lt;td&gt;377427.50&lt;/td&gt;\\n      &lt;td&gt;2555.166667&lt;/td&gt;\\n    &lt;/tr&gt;\\n    &lt;tr&gt;\\n      &lt;th&gt;1&lt;/th&gt;\\n      &lt;td&gt;Merced Heights&lt;/td&gt;\\n      &lt;td&gt;788.844818&lt;/td&gt;\\n      &lt;td&gt;380348.00&lt;/td&gt;\\n      &lt;td&gt;3414.000000&lt;/td&gt;\\n    &lt;/tr&gt;\\n    &lt;tr&gt;\\n      &lt;th&gt;2&lt;/th&gt;\\n      &lt;td&gt;Miraloma Park&lt;/td&gt;\\n      &lt;td&gt;779.810842&lt;/td&gt;\\n      &lt;td&gt;375967.25&lt;/td&gt;\\n      &lt;td&gt;2155.250000&lt;/td&gt;\\n    &lt;/tr&gt;\\n    &lt;tr&gt;\\n      &lt;th&gt;3&lt;/th&gt;\\n      &lt;td&gt;Pacific Heights&lt;/td&gt;\\n      &lt;td&gt;689.555817&lt;/td&gt;\\n      &lt;td&gt;378401.00&lt;/td&gt;\\n      &lt;td&gt;2817.285714&lt;/td&gt;\\n    &lt;/tr&gt;\\n    &lt;tr&gt;\\n      &lt;th&gt;4&lt;/th&gt;\\n      &lt;td&gt;Westwood Park&lt;/td&gt;\\n      &lt;td&gt;687.087575&lt;/td&gt;\\n      &lt;td&gt;382295.00&lt;/td&gt;\\n      &lt;td&gt;3959.000000&lt;/td&gt;\\n    &lt;/tr&gt;\\n    &lt;tr&gt;\\n      &lt;th&gt;5&lt;/th&gt;\\n      &lt;td&gt;Telegraph Hill&lt;/td&gt;\\n      &lt;td&gt;676.506578&lt;/td&gt;\\n      &lt;td&gt;378401.00&lt;/td&gt;\\n      &lt;td&gt;2817.285714&lt;/td&gt;\\n    &lt;/tr&gt;\\n    &lt;tr&gt;\\n      &lt;th&gt;6&lt;/th&gt;\\n      &lt;td&gt;Presidio Heights&lt;/td&gt;\\n      &lt;td&gt;675.350212&lt;/td&gt;\\n      &lt;td&gt;378401.00&lt;/td&gt;\\n      &lt;td&gt;2817.285714&lt;/td&gt;\\n    &lt;/tr&gt;\\n    &lt;tr&gt;\\n      &lt;th&gt;7&lt;/th&gt;\\n      &lt;td&gt;Cow Hollow&lt;/td&gt;\\n      &lt;td&gt;665.964042&lt;/td&gt;\\n      &lt;td&gt;378401.00&lt;/td&gt;\\n      &lt;td&gt;2817.285714&lt;/td&gt;\\n    &lt;/tr&gt;\\n    &lt;tr&gt;\\n      &lt;th&gt;8&lt;/th&gt;\\n      &lt;td&gt;Potrero Hill&lt;/td&gt;\\n      &lt;td&gt;662.013613&lt;/td&gt;\\n      &lt;td&gt;378401.00&lt;/td&gt;\\n      &lt;td&gt;2817.285714&lt;/td&gt;\\n    &lt;/tr&gt;\\n    &lt;tr&gt;\\n      &lt;th&gt;9&lt;/th&gt;\\n      &lt;td&gt;South Beach&lt;/td&gt;\\n      &lt;td&gt;650.124479&lt;/td&gt;\\n      &lt;td&gt;375805.00&lt;/td&gt;\\n      &lt;td&gt;2099.000000&lt;/td&gt;\\n    &lt;/tr&gt;\\n  &lt;/tbody&gt;\\n&lt;/table&gt;\"},\"id\":\"1375\",\"type\":\"panel.models.markup.HTML\"},{\"attributes\":{\"children\":[{\"id\":\"1359\"},{\"id\":\"1360\"}],\"margin\":[0,0,0,0],\"name\":\"Row02667\"},\"id\":\"1358\",\"type\":\"Row\"},{\"attributes\":{\"child\":{\"id\":\"1356\"},\"name\":\"Welcome\",\"title\":\"Welcome\"},\"id\":\"1357\",\"type\":\"Panel\"},{\"attributes\":{\"child\":{\"id\":\"1358\"},\"name\":\"Row02667\",\"title\":\"Yearly Market Analysis\"},\"id\":\"1364\",\"type\":\"Panel\"},{\"attributes\":{\"margin\":[5,5,5,5],\"name\":\"interactive02661\",\"text\":\"&lt;pre&gt;AxesSubplot(0.125,0.125;0.775x0.755)&lt;/pre&gt;\"},\"id\":\"1363\",\"type\":\"panel.models.markup.HTML\"},{\"attributes\":{\"children\":[{\"id\":\"1379\"}],\"margin\":[0,0,0,0],\"name\":\"Row02763\"},\"id\":\"1378\",\"type\":\"Row\"},{\"attributes\":{\"margin\":[0,0,0,0],\"name\":\"Column02764\"},\"id\":\"1377\",\"type\":\"Column\"},{\"attributes\":{\"margin\":[5,5,5,5],\"name\":\"Welcome\",\"text\":\"&lt;table border=&quot;0&quot; class=&quot;dataframe panel-df&quot;&gt;\\n  &lt;thead&gt;\\n    &lt;tr style=&quot;text-align: right;&quot;&gt;\\n      &lt;th&gt;&lt;/th&gt;\\n      &lt;th&gt;Lat&lt;/th&gt;\\n      &lt;th&gt;Lon&lt;/th&gt;\\n      &lt;th&gt;neighborhood&lt;/th&gt;\\n      &lt;th&gt;sale_price_sqr_foot&lt;/th&gt;\\n      &lt;th&gt;housing_units&lt;/th&gt;\\n      &lt;th&gt;gross_rent&lt;/th&gt;\\n    &lt;/tr&gt;\\n  &lt;/thead&gt;\\n  &lt;tbody&gt;\\n    &lt;tr&gt;\\n      &lt;th&gt;0&lt;/th&gt;\\n      &lt;td&gt;37.791012&lt;/td&gt;\\n      &lt;td&gt;-122.402100&lt;/td&gt;\\n      &lt;td&gt;Alamo Square&lt;/td&gt;\\n      &lt;td&gt;366.020712&lt;/td&gt;\\n      &lt;td&gt;378401.00&lt;/td&gt;\\n      &lt;td&gt;2817.285714&lt;/td&gt;\\n    &lt;/tr&gt;\\n    &lt;tr&gt;\\n      &lt;th&gt;1&lt;/th&gt;\\n      &lt;td&gt;37.779598&lt;/td&gt;\\n      &lt;td&gt;-122.443451&lt;/td&gt;\\n      &lt;td&gt;Anza Vista&lt;/td&gt;\\n      &lt;td&gt;373.382198&lt;/td&gt;\\n      &lt;td&gt;379050.00&lt;/td&gt;\\n      &lt;td&gt;3031.833333&lt;/td&gt;\\n    &lt;/tr&gt;\\n    &lt;tr&gt;\\n      &lt;th&gt;2&lt;/th&gt;\\n      &lt;td&gt;37.734670&lt;/td&gt;\\n      &lt;td&gt;-122.401060&lt;/td&gt;\\n      &lt;td&gt;Bayview&lt;/td&gt;\\n      &lt;td&gt;204.588623&lt;/td&gt;\\n      &lt;td&gt;376454.00&lt;/td&gt;\\n      &lt;td&gt;2318.400000&lt;/td&gt;\\n    &lt;/tr&gt;\\n    &lt;tr&gt;\\n      &lt;th&gt;3&lt;/th&gt;\\n      &lt;td&gt;37.728740&lt;/td&gt;\\n      &lt;td&gt;-122.410980&lt;/td&gt;\\n      &lt;td&gt;Bayview Heights&lt;/td&gt;\\n      &lt;td&gt;590.792839&lt;/td&gt;\\n      &lt;td&gt;382295.00&lt;/td&gt;\\n      &lt;td&gt;3739.000000&lt;/td&gt;\\n    &lt;/tr&gt;\\n    &lt;tr&gt;\\n      &lt;th&gt;4&lt;/th&gt;\\n      &lt;td&gt;37.728630&lt;/td&gt;\\n      &lt;td&gt;-122.443050&lt;/td&gt;\\n      &lt;td&gt;Bernal Heights&lt;/td&gt;\\n      &lt;td&gt;576.746488&lt;/td&gt;\\n      &lt;td&gt;379374.50&lt;/td&gt;\\n      &lt;td&gt;3080.333333&lt;/td&gt;\\n    &lt;/tr&gt;\\n    &lt;tr&gt;\\n      &lt;th&gt;5&lt;/th&gt;\\n      &lt;td&gt;37.768160&lt;/td&gt;\\n      &lt;td&gt;-122.439330&lt;/td&gt;\\n      &lt;td&gt;Buena Vista Park&lt;/td&gt;\\n      &lt;td&gt;452.680591&lt;/td&gt;\\n      &lt;td&gt;378076.50&lt;/td&gt;\\n      &lt;td&gt;2698.833333&lt;/td&gt;\\n    &lt;/tr&gt;\\n    &lt;tr&gt;\\n      &lt;th&gt;6&lt;/th&gt;\\n      &lt;td&gt;37.777890&lt;/td&gt;\\n      &lt;td&gt;-122.445170&lt;/td&gt;\\n      &lt;td&gt;Central Richmond&lt;/td&gt;\\n      &lt;td&gt;394.422399&lt;/td&gt;\\n      &lt;td&gt;378401.00&lt;/td&gt;\\n      &lt;td&gt;2817.285714&lt;/td&gt;\\n    &lt;/tr&gt;\\n    &lt;tr&gt;\\n      &lt;th&gt;7&lt;/th&gt;\\n      &lt;td&gt;37.749610&lt;/td&gt;\\n      &lt;td&gt;-122.489990&lt;/td&gt;\\n      &lt;td&gt;Central Sunset&lt;/td&gt;\\n      &lt;td&gt;423.687928&lt;/td&gt;\\n      &lt;td&gt;378401.00&lt;/td&gt;\\n      &lt;td&gt;2817.285714&lt;/td&gt;\\n    &lt;/tr&gt;\\n    &lt;tr&gt;\\n      &lt;th&gt;8&lt;/th&gt;\\n      &lt;td&gt;37.753310&lt;/td&gt;\\n      &lt;td&gt;-122.447030&lt;/td&gt;\\n      &lt;td&gt;Clarendon Heights&lt;/td&gt;\\n      &lt;td&gt;487.244886&lt;/td&gt;\\n      &lt;td&gt;376454.00&lt;/td&gt;\\n      &lt;td&gt;2250.500000&lt;/td&gt;\\n    &lt;/tr&gt;\\n    &lt;tr&gt;\\n      &lt;th&gt;9&lt;/th&gt;\\n      &lt;td&gt;37.785530&lt;/td&gt;\\n      &lt;td&gt;-122.456000&lt;/td&gt;\\n      &lt;td&gt;Corona Heights&lt;/td&gt;\\n      &lt;td&gt;587.539067&lt;/td&gt;\\n      &lt;td&gt;377232.80&lt;/td&gt;\\n      &lt;td&gt;2472.000000&lt;/td&gt;\\n    &lt;/tr&gt;\\n    &lt;tr&gt;\\n      &lt;th&gt;10&lt;/th&gt;\\n      &lt;td&gt;37.792980&lt;/td&gt;\\n      &lt;td&gt;-122.435790&lt;/td&gt;\\n      &lt;td&gt;Cow Hollow&lt;/td&gt;\\n      &lt;td&gt;665.964042&lt;/td&gt;\\n      &lt;td&gt;378401.00&lt;/td&gt;\\n      &lt;td&gt;2817.285714&lt;/td&gt;\\n    &lt;/tr&gt;\\n    &lt;tr&gt;\\n      &lt;th&gt;11&lt;/th&gt;\\n      &lt;td&gt;37.722800&lt;/td&gt;\\n      &lt;td&gt;-122.438690&lt;/td&gt;\\n      &lt;td&gt;Croker Amazon&lt;/td&gt;\\n      &lt;td&gt;303.004184&lt;/td&gt;\\n      &lt;td&gt;378076.50&lt;/td&gt;\\n      &lt;td&gt;2698.833333&lt;/td&gt;\\n    &lt;/tr&gt;\\n    &lt;tr&gt;\\n      &lt;th&gt;12&lt;/th&gt;\\n      &lt;td&gt;37.728630&lt;/td&gt;\\n      &lt;td&gt;-122.443050&lt;/td&gt;\\n      &lt;td&gt;Diamond Heights&lt;/td&gt;\\n      &lt;td&gt;434.991739&lt;/td&gt;\\n      &lt;td&gt;375480.50&lt;/td&gt;\\n      &lt;td&gt;2016.000000&lt;/td&gt;\\n    &lt;/tr&gt;\\n    &lt;tr&gt;\\n      &lt;th&gt;13&lt;/th&gt;\\n      &lt;td&gt;37.791010&lt;/td&gt;\\n      &lt;td&gt;-122.402100&lt;/td&gt;\\n      &lt;td&gt;Downtown&lt;/td&gt;\\n      &lt;td&gt;391.434378&lt;/td&gt;\\n      &lt;td&gt;378401.00&lt;/td&gt;\\n      &lt;td&gt;2817.285714&lt;/td&gt;\\n    &lt;/tr&gt;\\n    &lt;tr&gt;\\n      &lt;th&gt;14&lt;/th&gt;\\n      &lt;td&gt;37.769640&lt;/td&gt;\\n      &lt;td&gt;-122.426110&lt;/td&gt;\\n      &lt;td&gt;Duboce Triangle&lt;/td&gt;\\n      &lt;td&gt;502.599156&lt;/td&gt;\\n      &lt;td&gt;378401.00&lt;/td&gt;\\n      &lt;td&gt;2780.250000&lt;/td&gt;\\n    &lt;/tr&gt;\\n    &lt;tr&gt;\\n      &lt;th&gt;15&lt;/th&gt;\\n      &lt;td&gt;37.755540&lt;/td&gt;\\n      &lt;td&gt;-122.437790&lt;/td&gt;\\n      &lt;td&gt;Eureka Valley/Dolores Heights&lt;/td&gt;\\n      &lt;td&gt;642.248671&lt;/td&gt;\\n      &lt;td&gt;378401.00&lt;/td&gt;\\n      &lt;td&gt;2817.285714&lt;/td&gt;\\n    &lt;/tr&gt;\\n    &lt;tr&gt;\\n      &lt;th&gt;16&lt;/th&gt;\\n      &lt;td&gt;37.728740&lt;/td&gt;\\n      &lt;td&gt;-122.410980&lt;/td&gt;\\n      &lt;td&gt;Excelsior&lt;/td&gt;\\n      &lt;td&gt;388.765927&lt;/td&gt;\\n      &lt;td&gt;379050.00&lt;/td&gt;\\n      &lt;td&gt;3031.833333&lt;/td&gt;\\n    &lt;/tr&gt;\\n    &lt;tr&gt;\\n      &lt;th&gt;17&lt;/th&gt;\\n      &lt;td&gt;37.791010&lt;/td&gt;\\n      &lt;td&gt;-122.402100&lt;/td&gt;\\n      &lt;td&gt;Financial District North&lt;/td&gt;\\n      &lt;td&gt;391.362533&lt;/td&gt;\\n      &lt;td&gt;378401.00&lt;/td&gt;\\n      &lt;td&gt;2817.285714&lt;/td&gt;\\n    &lt;/tr&gt;\\n    &lt;tr&gt;\\n      &lt;th&gt;18&lt;/th&gt;\\n      &lt;td&gt;37.791010&lt;/td&gt;\\n      &lt;td&gt;-122.402100&lt;/td&gt;\\n      &lt;td&gt;Financial District South&lt;/td&gt;\\n      &lt;td&gt;455.836212&lt;/td&gt;\\n      &lt;td&gt;377232.80&lt;/td&gt;\\n      &lt;td&gt;2472.000000&lt;/td&gt;\\n    &lt;/tr&gt;\\n    &lt;tr&gt;\\n      &lt;th&gt;19&lt;/th&gt;\\n      &lt;td&gt;37.757060&lt;/td&gt;\\n      &lt;td&gt;-122.455090&lt;/td&gt;\\n      &lt;td&gt;Forest Knolls&lt;/td&gt;\\n      &lt;td&gt;321.840837&lt;/td&gt;\\n      &lt;td&gt;374507.00&lt;/td&gt;\\n      &lt;td&gt;1781.500000&lt;/td&gt;\\n    &lt;/tr&gt;\\n    &lt;tr&gt;\\n      &lt;th&gt;20&lt;/th&gt;\\n      &lt;td&gt;37.728630&lt;/td&gt;\\n      &lt;td&gt;-122.443050&lt;/td&gt;\\n      &lt;td&gt;Glen Park&lt;/td&gt;\\n      &lt;td&gt;623.826178&lt;/td&gt;\\n      &lt;td&gt;378725.50&lt;/td&gt;\\n      &lt;td&gt;2899.500000&lt;/td&gt;\\n    &lt;/tr&gt;\\n    &lt;tr&gt;\\n      &lt;th&gt;21&lt;/th&gt;\\n      &lt;td&gt;37.757912&lt;/td&gt;\\n      &lt;td&gt;-122.464020&lt;/td&gt;\\n      &lt;td&gt;Golden Gate Heights&lt;/td&gt;\\n      &lt;td&gt;639.393557&lt;/td&gt;\\n      &lt;td&gt;377622.20&lt;/td&gt;\\n      &lt;td&gt;2601.400000&lt;/td&gt;\\n    &lt;/tr&gt;\\n    &lt;tr&gt;\\n      &lt;th&gt;22&lt;/th&gt;\\n      &lt;td&gt;37.765250&lt;/td&gt;\\n      &lt;td&gt;-122.435960&lt;/td&gt;\\n      &lt;td&gt;Haight Ashbury&lt;/td&gt;\\n      &lt;td&gt;449.544762&lt;/td&gt;\\n      &lt;td&gt;378401.00&lt;/td&gt;\\n      &lt;td&gt;2817.285714&lt;/td&gt;\\n    &lt;/tr&gt;\\n    &lt;tr&gt;\\n      &lt;th&gt;23&lt;/th&gt;\\n      &lt;td&gt;37.765250&lt;/td&gt;\\n      &lt;td&gt;-122.435960&lt;/td&gt;\\n      &lt;td&gt;Hayes Valley&lt;/td&gt;\\n      &lt;td&gt;355.932828&lt;/td&gt;\\n      &lt;td&gt;378401.00&lt;/td&gt;\\n      &lt;td&gt;2817.285714&lt;/td&gt;\\n    &lt;/tr&gt;\\n    &lt;tr&gt;\\n      &lt;th&gt;24&lt;/th&gt;\\n      &lt;td&gt;37.725510&lt;/td&gt;\\n      &lt;td&gt;-122.371780&lt;/td&gt;\\n      &lt;td&gt;Hunters Point&lt;/td&gt;\\n      &lt;td&gt;170.624920&lt;/td&gt;\\n      &lt;td&gt;377427.50&lt;/td&gt;\\n      &lt;td&gt;2489.000000&lt;/td&gt;\\n    &lt;/tr&gt;\\n    &lt;tr&gt;\\n      &lt;th&gt;25&lt;/th&gt;\\n      &lt;td&gt;37.721161&lt;/td&gt;\\n      &lt;td&gt;-122.487068&lt;/td&gt;\\n      &lt;td&gt;Ingleside&lt;/td&gt;\\n      &lt;td&gt;367.895144&lt;/td&gt;\\n      &lt;td&gt;377427.50&lt;/td&gt;\\n      &lt;td&gt;2509.000000&lt;/td&gt;\\n    &lt;/tr&gt;\\n    &lt;tr&gt;\\n      &lt;th&gt;26&lt;/th&gt;\\n      &lt;td&gt;37.721160&lt;/td&gt;\\n      &lt;td&gt;-122.487070&lt;/td&gt;\\n      &lt;td&gt;Ingleside Heights&lt;/td&gt;\\n      &lt;td&gt;384.797928&lt;/td&gt;\\n      &lt;td&gt;379374.50&lt;/td&gt;\\n      &lt;td&gt;2960.000000&lt;/td&gt;\\n    &lt;/tr&gt;\\n    &lt;tr&gt;\\n      &lt;th&gt;27&lt;/th&gt;\\n      &lt;td&gt;37.754160&lt;/td&gt;\\n      &lt;td&gt;-122.419470&lt;/td&gt;\\n      &lt;td&gt;Inner Mission&lt;/td&gt;\\n      &lt;td&gt;397.673715&lt;/td&gt;\\n      &lt;td&gt;378401.00&lt;/td&gt;\\n      &lt;td&gt;2817.285714&lt;/td&gt;\\n    &lt;/tr&gt;\\n    &lt;tr&gt;\\n      &lt;th&gt;28&lt;/th&gt;\\n      &lt;td&gt;37.749610&lt;/td&gt;\\n      &lt;td&gt;-122.489990&lt;/td&gt;\\n      &lt;td&gt;Inner Parkside&lt;/td&gt;\\n      &lt;td&gt;519.385604&lt;/td&gt;\\n      &lt;td&gt;379861.25&lt;/td&gt;\\n      &lt;td&gt;3224.000000&lt;/td&gt;\\n    &lt;/tr&gt;\\n    &lt;tr&gt;\\n      &lt;th&gt;29&lt;/th&gt;\\n      &lt;td&gt;37.769112&lt;/td&gt;\\n      &lt;td&gt;-122.483566&lt;/td&gt;\\n      &lt;td&gt;Inner Richmond&lt;/td&gt;\\n      &lt;td&gt;378.594314&lt;/td&gt;\\n      &lt;td&gt;378401.00&lt;/td&gt;\\n      &lt;td&gt;2817.285714&lt;/td&gt;\\n    &lt;/tr&gt;\\n    &lt;tr&gt;\\n      &lt;th&gt;30&lt;/th&gt;\\n      &lt;td&gt;37.749610&lt;/td&gt;\\n      &lt;td&gt;-122.489970&lt;/td&gt;\\n      &lt;td&gt;Inner Sunset&lt;/td&gt;\\n      &lt;td&gt;413.667515&lt;/td&gt;\\n      &lt;td&gt;378401.00&lt;/td&gt;\\n      &lt;td&gt;2817.285714&lt;/td&gt;\\n    &lt;/tr&gt;\\n    &lt;tr&gt;\\n      &lt;th&gt;31&lt;/th&gt;\\n      &lt;td&gt;37.785530&lt;/td&gt;\\n      &lt;td&gt;-122.456000&lt;/td&gt;\\n      &lt;td&gt;Jordan Park/Laurel Heights&lt;/td&gt;\\n      &lt;td&gt;529.384185&lt;/td&gt;\\n      &lt;td&gt;378401.00&lt;/td&gt;\\n      &lt;td&gt;2817.285714&lt;/td&gt;\\n    &lt;/tr&gt;\\n    &lt;tr&gt;\\n      &lt;th&gt;32&lt;/th&gt;\\n      &lt;td&gt;37.801520&lt;/td&gt;\\n      &lt;td&gt;-122.454570&lt;/td&gt;\\n      &lt;td&gt;Lake --The Presidio&lt;/td&gt;\\n      &lt;td&gt;409.954352&lt;/td&gt;\\n      &lt;td&gt;377427.50&lt;/td&gt;\\n      &lt;td&gt;2555.166667&lt;/td&gt;\\n    &lt;/tr&gt;\\n    &lt;tr&gt;\\n      &lt;th&gt;33&lt;/th&gt;\\n      &lt;td&gt;37.778900&lt;/td&gt;\\n      &lt;td&gt;-122.454960&lt;/td&gt;\\n      &lt;td&gt;Lone Mountain&lt;/td&gt;\\n      &lt;td&gt;478.228553&lt;/td&gt;\\n      &lt;td&gt;377427.50&lt;/td&gt;\\n      &lt;td&gt;2555.166667&lt;/td&gt;\\n    &lt;/tr&gt;\\n    &lt;tr&gt;\\n      &lt;th&gt;34&lt;/th&gt;\\n      &lt;td&gt;37.792980&lt;/td&gt;\\n      &lt;td&gt;-122.435790&lt;/td&gt;\\n      &lt;td&gt;Lower Pacific Heights&lt;/td&gt;\\n      &lt;td&gt;539.237969&lt;/td&gt;\\n      &lt;td&gt;378401.00&lt;/td&gt;\\n      &lt;td&gt;2817.285714&lt;/td&gt;\\n    &lt;/tr&gt;\\n    &lt;tr&gt;\\n      &lt;th&gt;35&lt;/th&gt;\\n      &lt;td&gt;37.799720&lt;/td&gt;\\n      &lt;td&gt;-122.466890&lt;/td&gt;\\n      &lt;td&gt;Marina&lt;/td&gt;\\n      &lt;td&gt;583.749269&lt;/td&gt;\\n      &lt;td&gt;378401.00&lt;/td&gt;\\n      &lt;td&gt;2817.285714&lt;/td&gt;\\n    &lt;/tr&gt;\\n    &lt;tr&gt;\\n      &lt;th&gt;36&lt;/th&gt;\\n      &lt;td&gt;37.719930&lt;/td&gt;\\n      &lt;td&gt;-122.465950&lt;/td&gt;\\n      &lt;td&gt;Merced Heights&lt;/td&gt;\\n      &lt;td&gt;788.844818&lt;/td&gt;\\n      &lt;td&gt;380348.00&lt;/td&gt;\\n      &lt;td&gt;3414.000000&lt;/td&gt;\\n    &lt;/tr&gt;\\n    &lt;tr&gt;\\n      &lt;th&gt;37&lt;/th&gt;\\n      &lt;td&gt;37.753310&lt;/td&gt;\\n      &lt;td&gt;-122.447030&lt;/td&gt;\\n      &lt;td&gt;Midtown Terrace&lt;/td&gt;\\n      &lt;td&gt;550.510348&lt;/td&gt;\\n      &lt;td&gt;377427.50&lt;/td&gt;\\n      &lt;td&gt;2647.500000&lt;/td&gt;\\n    &lt;/tr&gt;\\n    &lt;tr&gt;\\n      &lt;th&gt;38&lt;/th&gt;\\n      &lt;td&gt;37.734150&lt;/td&gt;\\n      &lt;td&gt;-122.457000&lt;/td&gt;\\n      &lt;td&gt;Miraloma Park&lt;/td&gt;\\n      &lt;td&gt;779.810842&lt;/td&gt;\\n      &lt;td&gt;375967.25&lt;/td&gt;\\n      &lt;td&gt;2155.250000&lt;/td&gt;\\n    &lt;/tr&gt;\\n    &lt;tr&gt;\\n      &lt;th&gt;39&lt;/th&gt;\\n      &lt;td&gt;37.783230&lt;/td&gt;\\n      &lt;td&gt;-122.400650&lt;/td&gt;\\n      &lt;td&gt;Mission Bay&lt;/td&gt;\\n      &lt;td&gt;566.192214&lt;/td&gt;\\n      &lt;td&gt;377752.00&lt;/td&gt;\\n      &lt;td&gt;2663.666667&lt;/td&gt;\\n    &lt;/tr&gt;\\n    &lt;tr&gt;\\n      &lt;th&gt;40&lt;/th&gt;\\n      &lt;td&gt;37.751840&lt;/td&gt;\\n      &lt;td&gt;-122.425220&lt;/td&gt;\\n      &lt;td&gt;Mission Dolores&lt;/td&gt;\\n      &lt;td&gt;418.915623&lt;/td&gt;\\n      &lt;td&gt;377427.50&lt;/td&gt;\\n      &lt;td&gt;2555.166667&lt;/td&gt;\\n    &lt;/tr&gt;\\n    &lt;tr&gt;\\n      &lt;th&gt;41&lt;/th&gt;\\n      &lt;td&gt;37.728630&lt;/td&gt;\\n      &lt;td&gt;-122.443050&lt;/td&gt;\\n      &lt;td&gt;Mission Terrace&lt;/td&gt;\\n      &lt;td&gt;523.466201&lt;/td&gt;\\n      &lt;td&gt;379569.20&lt;/td&gt;\\n      &lt;td&gt;3173.400000&lt;/td&gt;\\n    &lt;/tr&gt;\\n    &lt;tr&gt;\\n      &lt;th&gt;42&lt;/th&gt;\\n      &lt;td&gt;37.792980&lt;/td&gt;\\n      &lt;td&gt;-122.435790&lt;/td&gt;\\n      &lt;td&gt;Nob Hill&lt;/td&gt;\\n      &lt;td&gt;458.204094&lt;/td&gt;\\n      &lt;td&gt;378401.00&lt;/td&gt;\\n      &lt;td&gt;2817.285714&lt;/td&gt;\\n    &lt;/tr&gt;\\n    &lt;tr&gt;\\n      &lt;th&gt;43&lt;/th&gt;\\n      &lt;td&gt;37.753310&lt;/td&gt;\\n      &lt;td&gt;-122.447030&lt;/td&gt;\\n      &lt;td&gt;Noe Valley&lt;/td&gt;\\n      &lt;td&gt;542.442913&lt;/td&gt;\\n      &lt;td&gt;378401.00&lt;/td&gt;\\n      &lt;td&gt;2817.285714&lt;/td&gt;\\n    &lt;/tr&gt;\\n    &lt;tr&gt;\\n      &lt;th&gt;44&lt;/th&gt;\\n      &lt;td&gt;37.800550&lt;/td&gt;\\n      &lt;td&gt;-122.404330&lt;/td&gt;\\n      &lt;td&gt;North Beach&lt;/td&gt;\\n      &lt;td&gt;411.646876&lt;/td&gt;\\n      &lt;td&gt;379179.80&lt;/td&gt;\\n      &lt;td&gt;2990.800000&lt;/td&gt;\\n    &lt;/tr&gt;\\n    &lt;tr&gt;\\n      &lt;th&gt;45&lt;/th&gt;\\n      &lt;td&gt;37.800550&lt;/td&gt;\\n      &lt;td&gt;-122.404330&lt;/td&gt;\\n      &lt;td&gt;North Waterfront&lt;/td&gt;\\n      &lt;td&gt;498.269755&lt;/td&gt;\\n      &lt;td&gt;378401.00&lt;/td&gt;\\n      &lt;td&gt;2818.400000&lt;/td&gt;\\n    &lt;/tr&gt;\\n    &lt;tr&gt;\\n      &lt;th&gt;46&lt;/th&gt;\\n      &lt;td&gt;37.719930&lt;/td&gt;\\n      &lt;td&gt;-122.465950&lt;/td&gt;\\n      &lt;td&gt;Oceanview&lt;/td&gt;\\n      &lt;td&gt;330.097385&lt;/td&gt;\\n      &lt;td&gt;377103.00&lt;/td&gt;\\n      &lt;td&gt;2434.000000&lt;/td&gt;\\n    &lt;/tr&gt;\\n    &lt;tr&gt;\\n      &lt;th&gt;47&lt;/th&gt;\\n      &lt;td&gt;37.722800&lt;/td&gt;\\n      &lt;td&gt;-122.438690&lt;/td&gt;\\n      &lt;td&gt;Outer Mission&lt;/td&gt;\\n      &lt;td&gt;242.370952&lt;/td&gt;\\n      &lt;td&gt;379374.50&lt;/td&gt;\\n      &lt;td&gt;2995.750000&lt;/td&gt;\\n    &lt;/tr&gt;\\n    &lt;tr&gt;\\n      &lt;th&gt;48&lt;/th&gt;\\n      &lt;td&gt;37.751700&lt;/td&gt;\\n      &lt;td&gt;-122.446000&lt;/td&gt;\\n      &lt;td&gt;Outer Parkside&lt;/td&gt;\\n      &lt;td&gt;485.027013&lt;/td&gt;\\n      &lt;td&gt;378401.00&lt;/td&gt;\\n      &lt;td&gt;2817.285714&lt;/td&gt;\\n    &lt;/tr&gt;\\n    &lt;tr&gt;\\n      &lt;th&gt;49&lt;/th&gt;\\n      &lt;td&gt;37.769110&lt;/td&gt;\\n      &lt;td&gt;-122.483570&lt;/td&gt;\\n      &lt;td&gt;Outer Richmond&lt;/td&gt;\\n      &lt;td&gt;473.900773&lt;/td&gt;\\n      &lt;td&gt;378401.00&lt;/td&gt;\\n      &lt;td&gt;2817.285714&lt;/td&gt;\\n    &lt;/tr&gt;\\n    &lt;tr&gt;\\n      &lt;th&gt;50&lt;/th&gt;\\n      &lt;td&gt;37.749610&lt;/td&gt;\\n      &lt;td&gt;-122.489990&lt;/td&gt;\\n      &lt;td&gt;Outer Sunset&lt;/td&gt;\\n      &lt;td&gt;394.219032&lt;/td&gt;\\n      &lt;td&gt;378401.00&lt;/td&gt;\\n      &lt;td&gt;2817.285714&lt;/td&gt;\\n    &lt;/tr&gt;\\n    &lt;tr&gt;\\n      &lt;th&gt;51&lt;/th&gt;\\n      &lt;td&gt;37.792980&lt;/td&gt;\\n      &lt;td&gt;-122.435790&lt;/td&gt;\\n      &lt;td&gt;Pacific Heights&lt;/td&gt;\\n      &lt;td&gt;689.555817&lt;/td&gt;\\n      &lt;td&gt;378401.00&lt;/td&gt;\\n      &lt;td&gt;2817.285714&lt;/td&gt;\\n    &lt;/tr&gt;\\n    &lt;tr&gt;\\n      &lt;th&gt;52&lt;/th&gt;\\n      &lt;td&gt;37.728380&lt;/td&gt;\\n      &lt;td&gt;-122.478510&lt;/td&gt;\\n      &lt;td&gt;Park North&lt;/td&gt;\\n      &lt;td&gt;373.732856&lt;/td&gt;\\n      &lt;td&gt;378401.00&lt;/td&gt;\\n      &lt;td&gt;2817.285714&lt;/td&gt;\\n    &lt;/tr&gt;\\n    &lt;tr&gt;\\n      &lt;th&gt;53&lt;/th&gt;\\n      &lt;td&gt;37.749610&lt;/td&gt;\\n      &lt;td&gt;-122.489990&lt;/td&gt;\\n      &lt;td&gt;Parkside&lt;/td&gt;\\n      &lt;td&gt;336.172661&lt;/td&gt;\\n      &lt;td&gt;377427.50&lt;/td&gt;\\n      &lt;td&gt;2555.166667&lt;/td&gt;\\n    &lt;/tr&gt;\\n    &lt;tr&gt;\\n      &lt;th&gt;54&lt;/th&gt;\\n      &lt;td&gt;37.763550&lt;/td&gt;\\n      &lt;td&gt;-122.457650&lt;/td&gt;\\n      &lt;td&gt;Parnassus/Ashbury Heights&lt;/td&gt;\\n      &lt;td&gt;632.740454&lt;/td&gt;\\n      &lt;td&gt;378401.00&lt;/td&gt;\\n      &lt;td&gt;2817.285714&lt;/td&gt;\\n    &lt;/tr&gt;\\n    &lt;tr&gt;\\n      &lt;th&gt;55&lt;/th&gt;\\n      &lt;td&gt;37.734670&lt;/td&gt;\\n      &lt;td&gt;-122.401060&lt;/td&gt;\\n      &lt;td&gt;Portola&lt;/td&gt;\\n      &lt;td&gt;327.113925&lt;/td&gt;\\n      &lt;td&gt;376454.00&lt;/td&gt;\\n      &lt;td&gt;2318.400000&lt;/td&gt;\\n    &lt;/tr&gt;\\n    &lt;tr&gt;\\n      &lt;th&gt;56&lt;/th&gt;\\n      &lt;td&gt;37.731960&lt;/td&gt;\\n      &lt;td&gt;-122.383240&lt;/td&gt;\\n      &lt;td&gt;Potrero Hill&lt;/td&gt;\\n      &lt;td&gt;662.013613&lt;/td&gt;\\n      &lt;td&gt;378401.00&lt;/td&gt;\\n      &lt;td&gt;2817.285714&lt;/td&gt;\\n    &lt;/tr&gt;\\n    &lt;tr&gt;\\n      &lt;th&gt;57&lt;/th&gt;\\n      &lt;td&gt;37.785530&lt;/td&gt;\\n      &lt;td&gt;-122.456000&lt;/td&gt;\\n      &lt;td&gt;Presidio Heights&lt;/td&gt;\\n      &lt;td&gt;675.350212&lt;/td&gt;\\n      &lt;td&gt;378401.00&lt;/td&gt;\\n      &lt;td&gt;2817.285714&lt;/td&gt;\\n    &lt;/tr&gt;\\n    &lt;tr&gt;\\n      &lt;th&gt;58&lt;/th&gt;\\n      &lt;td&gt;37.792980&lt;/td&gt;\\n      &lt;td&gt;-122.435790&lt;/td&gt;\\n      &lt;td&gt;Russian Hill&lt;/td&gt;\\n      &lt;td&gt;608.983217&lt;/td&gt;\\n      &lt;td&gt;378401.00&lt;/td&gt;\\n      &lt;td&gt;2817.285714&lt;/td&gt;\\n    &lt;/tr&gt;\\n    &lt;tr&gt;\\n      &lt;th&gt;59&lt;/th&gt;\\n      &lt;td&gt;37.734670&lt;/td&gt;\\n      &lt;td&gt;-122.401060&lt;/td&gt;\\n      &lt;td&gt;Silver Terrace&lt;/td&gt;\\n      &lt;td&gt;170.292549&lt;/td&gt;\\n      &lt;td&gt;380348.00&lt;/td&gt;\\n      &lt;td&gt;3528.000000&lt;/td&gt;\\n    &lt;/tr&gt;\\n    &lt;tr&gt;\\n      &lt;th&gt;60&lt;/th&gt;\\n      &lt;td&gt;37.783230&lt;/td&gt;\\n      &lt;td&gt;-122.400650&lt;/td&gt;\\n      &lt;td&gt;South Beach&lt;/td&gt;\\n      &lt;td&gt;650.124479&lt;/td&gt;\\n      &lt;td&gt;375805.00&lt;/td&gt;\\n      &lt;td&gt;2099.000000&lt;/td&gt;\\n    &lt;/tr&gt;\\n    &lt;tr&gt;\\n      &lt;th&gt;61&lt;/th&gt;\\n      &lt;td&gt;37.791010&lt;/td&gt;\\n      &lt;td&gt;-122.402100&lt;/td&gt;\\n      &lt;td&gt;South of Market&lt;/td&gt;\\n      &lt;td&gt;570.271427&lt;/td&gt;\\n      &lt;td&gt;378401.00&lt;/td&gt;\\n      &lt;td&gt;2817.285714&lt;/td&gt;\\n    &lt;/tr&gt;\\n    &lt;tr&gt;\\n      &lt;th&gt;62&lt;/th&gt;\\n      &lt;td&gt;37.734150&lt;/td&gt;\\n      &lt;td&gt;-122.457000&lt;/td&gt;\\n      &lt;td&gt;Sunnyside&lt;/td&gt;\\n      &lt;td&gt;528.318332&lt;/td&gt;\\n      &lt;td&gt;378725.50&lt;/td&gt;\\n      &lt;td&gt;2899.500000&lt;/td&gt;\\n    &lt;/tr&gt;\\n    &lt;tr&gt;\\n      &lt;th&gt;63&lt;/th&gt;\\n      &lt;td&gt;37.800550&lt;/td&gt;\\n      &lt;td&gt;-122.404330&lt;/td&gt;\\n      &lt;td&gt;Telegraph Hill&lt;/td&gt;\\n      &lt;td&gt;676.506578&lt;/td&gt;\\n      &lt;td&gt;378401.00&lt;/td&gt;\\n      &lt;td&gt;2817.285714&lt;/td&gt;\\n    &lt;/tr&gt;\\n    &lt;tr&gt;\\n      &lt;th&gt;64&lt;/th&gt;\\n      &lt;td&gt;37.753311&lt;/td&gt;\\n      &lt;td&gt;-122.447029&lt;/td&gt;\\n      &lt;td&gt;Twin Peaks&lt;/td&gt;\\n      &lt;td&gt;469.398626&lt;/td&gt;\\n      &lt;td&gt;378401.00&lt;/td&gt;\\n      &lt;td&gt;2817.285714&lt;/td&gt;\\n    &lt;/tr&gt;\\n    &lt;tr&gt;\\n      &lt;th&gt;65&lt;/th&gt;\\n      &lt;td&gt;37.791010&lt;/td&gt;\\n      &lt;td&gt;-122.402100&lt;/td&gt;\\n      &lt;td&gt;Union Square District&lt;/td&gt;\\n      &lt;td&gt;903.993258&lt;/td&gt;\\n      &lt;td&gt;377427.50&lt;/td&gt;\\n      &lt;td&gt;2555.166667&lt;/td&gt;\\n    &lt;/tr&gt;\\n    &lt;tr&gt;\\n      &lt;th&gt;66&lt;/th&gt;\\n      &lt;td&gt;37.779510&lt;/td&gt;\\n      &lt;td&gt;-122.420220&lt;/td&gt;\\n      &lt;td&gt;Van Ness/ Civic Center&lt;/td&gt;\\n      &lt;td&gt;404.150180&lt;/td&gt;\\n      &lt;td&gt;378401.00&lt;/td&gt;\\n      &lt;td&gt;2817.285714&lt;/td&gt;\\n    &lt;/tr&gt;\\n    &lt;tr&gt;\\n      &lt;th&gt;67&lt;/th&gt;\\n      &lt;td&gt;37.728740&lt;/td&gt;\\n      &lt;td&gt;-122.410980&lt;/td&gt;\\n      &lt;td&gt;Visitacion Valley&lt;/td&gt;\\n      &lt;td&gt;301.466180&lt;/td&gt;\\n      &lt;td&gt;381321.50&lt;/td&gt;\\n      &lt;td&gt;3657.000000&lt;/td&gt;\\n    &lt;/tr&gt;\\n    &lt;tr&gt;\\n      &lt;th&gt;68&lt;/th&gt;\\n      &lt;td&gt;37.740260&lt;/td&gt;\\n      &lt;td&gt;-122.463880&lt;/td&gt;\\n      &lt;td&gt;West Portal&lt;/td&gt;\\n      &lt;td&gt;498.488485&lt;/td&gt;\\n      &lt;td&gt;376940.75&lt;/td&gt;\\n      &lt;td&gt;2515.500000&lt;/td&gt;\\n    &lt;/tr&gt;\\n    &lt;tr&gt;\\n      &lt;th&gt;69&lt;/th&gt;\\n      &lt;td&gt;37.792980&lt;/td&gt;\\n      &lt;td&gt;-122.435790&lt;/td&gt;\\n      &lt;td&gt;Western Addition&lt;/td&gt;\\n      &lt;td&gt;307.562201&lt;/td&gt;\\n      &lt;td&gt;377427.50&lt;/td&gt;\\n      &lt;td&gt;2555.166667&lt;/td&gt;\\n    &lt;/tr&gt;\\n    &lt;tr&gt;\\n      &lt;th&gt;70&lt;/th&gt;\\n      &lt;td&gt;37.734700&lt;/td&gt;\\n      &lt;td&gt;-122.456854&lt;/td&gt;\\n      &lt;td&gt;Westwood Highlands&lt;/td&gt;\\n      &lt;td&gt;533.703935&lt;/td&gt;\\n      &lt;td&gt;376454.00&lt;/td&gt;\\n      &lt;td&gt;2250.500000&lt;/td&gt;\\n    &lt;/tr&gt;\\n    &lt;tr&gt;\\n      &lt;th&gt;71&lt;/th&gt;\\n      &lt;td&gt;37.734150&lt;/td&gt;\\n      &lt;td&gt;-122.457000&lt;/td&gt;\\n      &lt;td&gt;Westwood Park&lt;/td&gt;\\n      &lt;td&gt;687.087575&lt;/td&gt;\\n      &lt;td&gt;382295.00&lt;/td&gt;\\n      &lt;td&gt;3959.000000&lt;/td&gt;\\n    &lt;/tr&gt;\\n    &lt;tr&gt;\\n      &lt;th&gt;72&lt;/th&gt;\\n      &lt;td&gt;37.792980&lt;/td&gt;\\n      &lt;td&gt;-122.396360&lt;/td&gt;\\n      &lt;td&gt;Yerba Buena&lt;/td&gt;\\n      &lt;td&gt;576.709848&lt;/td&gt;\\n      &lt;td&gt;377427.50&lt;/td&gt;\\n      &lt;td&gt;2555.166667&lt;/td&gt;\\n    &lt;/tr&gt;\\n  &lt;/tbody&gt;\\n&lt;/table&gt;\"},\"id\":\"1356\",\"type\":\"panel.models.markup.HTML\"},{\"attributes\":{\"children\":[{\"id\":\"1371\"},{\"id\":\"1372\"},{\"id\":\"1376\"}],\"margin\":[0,0,0,0],\"name\":\"Column02765\"},\"id\":\"1370\",\"type\":\"Column\"},{\"attributes\":{\"children\":[{\"id\":\"1373\"},{\"id\":\"1374\"}],\"margin\":[0,0,0,0],\"name\":\"Column02754\"},\"id\":\"1372\",\"type\":\"Column\"},{\"attributes\":{\"margin\":[0,0,0,0],\"name\":\"Column02758\"},\"id\":\"1373\",\"type\":\"Column\"},{\"attributes\":{\"css_classes\":[\"markdown\"],\"margin\":[5,5,5,5],\"name\":\"Markdown02744\",\"text\":\"&lt;h2&gt;Neighborhoods&lt;/h2&gt;\"},\"id\":\"1366\",\"type\":\"panel.models.markup.HTML\"},{\"attributes\":{\"margin\":[5,5,5,5],\"name\":\"DataFrame02748\",\"text\":\"&lt;table border=&quot;0&quot; class=&quot;dataframe panel-df&quot;&gt;\\n  &lt;thead&gt;\\n    &lt;tr style=&quot;text-align: right;&quot;&gt;\\n      &lt;th&gt;&lt;/th&gt;\\n      &lt;th&gt;neighborhood&lt;/th&gt;\\n      &lt;th&gt;sale_price_sqr_foot&lt;/th&gt;\\n      &lt;th&gt;housing_units&lt;/th&gt;\\n      &lt;th&gt;gross_rent&lt;/th&gt;\\n    &lt;/tr&gt;\\n  &lt;/thead&gt;\\n  &lt;tbody&gt;\\n    &lt;tr&gt;\\n      &lt;th&gt;0&lt;/th&gt;\\n      &lt;td&gt;Union Square District&lt;/td&gt;\\n      &lt;td&gt;903.993258&lt;/td&gt;\\n      &lt;td&gt;377427.50&lt;/td&gt;\\n      &lt;td&gt;2555.166667&lt;/td&gt;\\n    &lt;/tr&gt;\\n    &lt;tr&gt;\\n      &lt;th&gt;1&lt;/th&gt;\\n      &lt;td&gt;Merced Heights&lt;/td&gt;\\n      &lt;td&gt;788.844818&lt;/td&gt;\\n      &lt;td&gt;380348.00&lt;/td&gt;\\n      &lt;td&gt;3414.000000&lt;/td&gt;\\n    &lt;/tr&gt;\\n    &lt;tr&gt;\\n      &lt;th&gt;2&lt;/th&gt;\\n      &lt;td&gt;Miraloma Park&lt;/td&gt;\\n      &lt;td&gt;779.810842&lt;/td&gt;\\n      &lt;td&gt;375967.25&lt;/td&gt;\\n      &lt;td&gt;2155.250000&lt;/td&gt;\\n    &lt;/tr&gt;\\n    &lt;tr&gt;\\n      &lt;th&gt;3&lt;/th&gt;\\n      &lt;td&gt;Pacific Heights&lt;/td&gt;\\n      &lt;td&gt;689.555817&lt;/td&gt;\\n      &lt;td&gt;378401.00&lt;/td&gt;\\n      &lt;td&gt;2817.285714&lt;/td&gt;\\n    &lt;/tr&gt;\\n    &lt;tr&gt;\\n      &lt;th&gt;4&lt;/th&gt;\\n      &lt;td&gt;Westwood Park&lt;/td&gt;\\n      &lt;td&gt;687.087575&lt;/td&gt;\\n      &lt;td&gt;382295.00&lt;/td&gt;\\n      &lt;td&gt;3959.000000&lt;/td&gt;\\n    &lt;/tr&gt;\\n    &lt;tr&gt;\\n      &lt;th&gt;5&lt;/th&gt;\\n      &lt;td&gt;Telegraph Hill&lt;/td&gt;\\n      &lt;td&gt;676.506578&lt;/td&gt;\\n      &lt;td&gt;378401.00&lt;/td&gt;\\n      &lt;td&gt;2817.285714&lt;/td&gt;\\n    &lt;/tr&gt;\\n    &lt;tr&gt;\\n      &lt;th&gt;6&lt;/th&gt;\\n      &lt;td&gt;Presidio Heights&lt;/td&gt;\\n      &lt;td&gt;675.350212&lt;/td&gt;\\n      &lt;td&gt;378401.00&lt;/td&gt;\\n      &lt;td&gt;2817.285714&lt;/td&gt;\\n    &lt;/tr&gt;\\n    &lt;tr&gt;\\n      &lt;th&gt;7&lt;/th&gt;\\n      &lt;td&gt;Cow Hollow&lt;/td&gt;\\n      &lt;td&gt;665.964042&lt;/td&gt;\\n      &lt;td&gt;378401.00&lt;/td&gt;\\n      &lt;td&gt;2817.285714&lt;/td&gt;\\n    &lt;/tr&gt;\\n    &lt;tr&gt;\\n      &lt;th&gt;8&lt;/th&gt;\\n      &lt;td&gt;Potrero Hill&lt;/td&gt;\\n      &lt;td&gt;662.013613&lt;/td&gt;\\n      &lt;td&gt;378401.00&lt;/td&gt;\\n      &lt;td&gt;2817.285714&lt;/td&gt;\\n    &lt;/tr&gt;\\n    &lt;tr&gt;\\n      &lt;th&gt;9&lt;/th&gt;\\n      &lt;td&gt;South Beach&lt;/td&gt;\\n      &lt;td&gt;650.124479&lt;/td&gt;\\n      &lt;td&gt;375805.00&lt;/td&gt;\\n      &lt;td&gt;2099.000000&lt;/td&gt;\\n    &lt;/tr&gt;\\n  &lt;/tbody&gt;\\n&lt;/table&gt;\"},\"id\":\"1368\",\"type\":\"panel.models.markup.HTML\"},{\"attributes\":{\"css_classes\":[\"markdown\"],\"margin\":[5,5,5,5],\"name\":\"Markdown02751\",\"text\":\"&lt;h1&gt;Parallel Coordinates and Categories&lt;/h1&gt;\"},\"id\":\"1371\",\"type\":\"panel.models.markup.HTML\"},{\"attributes\":{\"children\":[{\"id\":\"1361\"},{\"id\":\"1362\"}],\"margin\":[0,0,0,0],\"name\":\"Column02662\"},\"id\":\"1360\",\"type\":\"Column\"},{\"attributes\":{\"client_comm_id\":\"1041c81fd1e3449f9fd2e219e5c42a7f\",\"comm_id\":\"06477b3eb58c40698d8b2c9325bab7dc\",\"plot_id\":\"1355\"},\"id\":\"1381\",\"type\":\"panel.models.comm_manager.CommManager\"},{\"attributes\":{\"margin\":[5,5,5,5],\"name\":\"Str02746\",\"text\":\"&lt;pre&gt;&lt;pandas.core.groupby.generic.DataFrameGroupBy object at 0x127c731c0&gt;&lt;/pre&gt;\"},\"id\":\"1367\",\"type\":\"panel.models.markup.HTML\"},{\"attributes\":{\"margin\":[0,0,0,0],\"name\":\"Column02666\"},\"id\":\"1361\",\"type\":\"Column\"},{\"attributes\":{\"children\":[{\"id\":\"1366\"},{\"id\":\"1367\"},{\"id\":\"1368\"}],\"margin\":[0,0,0,0],\"name\":\"Row02750\"},\"id\":\"1365\",\"type\":\"Row\"},{\"attributes\":{\"child\":{\"id\":\"1365\"},\"name\":\"Row02750\",\"title\":\"Neighborhood Analysis\"},\"id\":\"1369\",\"type\":\"Panel\"},{\"attributes\":{\"children\":[{\"id\":\"1377\"},{\"id\":\"1378\"}],\"margin\":[0,0,0,0],\"name\":\"Column02760\"},\"id\":\"1376\",\"type\":\"Column\"},{\"attributes\":{\"css_classes\":[\"markdown\"],\"margin\":[5,5,5,5],\"name\":\"Markdown02659\",\"text\":\"&lt;h2&gt;Housing Units Per Year&lt;/h2&gt;\"},\"id\":\"1359\",\"type\":\"panel.models.markup.HTML\"},{\"attributes\":{\"margin\":[0,0,0,0],\"tabs\":[{\"id\":\"1357\"},{\"id\":\"1364\"},{\"id\":\"1369\"},{\"id\":\"1380\"}]},\"id\":\"1355\",\"type\":\"Tabs\"},{\"attributes\":{\"children\":[{\"id\":\"1363\"}],\"margin\":[0,0,0,0],\"name\":\"Row02665\"},\"id\":\"1362\",\"type\":\"Row\"},{\"attributes\":{\"margin\":[5,5,5,5],\"name\":\"interactive02759\",\"text\":\"&lt;table border=&quot;0&quot; class=&quot;dataframe panel-df&quot;&gt;\\n  &lt;thead&gt;\\n    &lt;tr style=&quot;text-align: right;&quot;&gt;\\n      &lt;th&gt;&lt;/th&gt;\\n      &lt;th&gt;neighborhood&lt;/th&gt;\\n      &lt;th&gt;sale_price_sqr_foot&lt;/th&gt;\\n      &lt;th&gt;housing_units&lt;/th&gt;\\n      &lt;th&gt;gross_rent&lt;/th&gt;\\n    &lt;/tr&gt;\\n  &lt;/thead&gt;\\n  &lt;tbody&gt;\\n    &lt;tr&gt;\\n      &lt;th&gt;0&lt;/th&gt;\\n      &lt;td&gt;Union Square District&lt;/td&gt;\\n      &lt;td&gt;903.993258&lt;/td&gt;\\n      &lt;td&gt;377427.50&lt;/td&gt;\\n      &lt;td&gt;2555.166667&lt;/td&gt;\\n    &lt;/tr&gt;\\n    &lt;tr&gt;\\n      &lt;th&gt;1&lt;/th&gt;\\n      &lt;td&gt;Merced Heights&lt;/td&gt;\\n      &lt;td&gt;788.844818&lt;/td&gt;\\n      &lt;td&gt;380348.00&lt;/td&gt;\\n      &lt;td&gt;3414.000000&lt;/td&gt;\\n    &lt;/tr&gt;\\n    &lt;tr&gt;\\n      &lt;th&gt;2&lt;/th&gt;\\n      &lt;td&gt;Miraloma Park&lt;/td&gt;\\n      &lt;td&gt;779.810842&lt;/td&gt;\\n      &lt;td&gt;375967.25&lt;/td&gt;\\n      &lt;td&gt;2155.250000&lt;/td&gt;\\n    &lt;/tr&gt;\\n    &lt;tr&gt;\\n      &lt;th&gt;3&lt;/th&gt;\\n      &lt;td&gt;Pacific Heights&lt;/td&gt;\\n      &lt;td&gt;689.555817&lt;/td&gt;\\n      &lt;td&gt;378401.00&lt;/td&gt;\\n      &lt;td&gt;2817.285714&lt;/td&gt;\\n    &lt;/tr&gt;\\n    &lt;tr&gt;\\n      &lt;th&gt;4&lt;/th&gt;\\n      &lt;td&gt;Westwood Park&lt;/td&gt;\\n      &lt;td&gt;687.087575&lt;/td&gt;\\n      &lt;td&gt;382295.00&lt;/td&gt;\\n      &lt;td&gt;3959.000000&lt;/td&gt;\\n    &lt;/tr&gt;\\n    &lt;tr&gt;\\n      &lt;th&gt;5&lt;/th&gt;\\n      &lt;td&gt;Telegraph Hill&lt;/td&gt;\\n      &lt;td&gt;676.506578&lt;/td&gt;\\n      &lt;td&gt;378401.00&lt;/td&gt;\\n      &lt;td&gt;2817.285714&lt;/td&gt;\\n    &lt;/tr&gt;\\n    &lt;tr&gt;\\n      &lt;th&gt;6&lt;/th&gt;\\n      &lt;td&gt;Presidio Heights&lt;/td&gt;\\n      &lt;td&gt;675.350212&lt;/td&gt;\\n      &lt;td&gt;378401.00&lt;/td&gt;\\n      &lt;td&gt;2817.285714&lt;/td&gt;\\n    &lt;/tr&gt;\\n    &lt;tr&gt;\\n      &lt;th&gt;7&lt;/th&gt;\\n      &lt;td&gt;Cow Hollow&lt;/td&gt;\\n      &lt;td&gt;665.964042&lt;/td&gt;\\n      &lt;td&gt;378401.00&lt;/td&gt;\\n      &lt;td&gt;2817.285714&lt;/td&gt;\\n    &lt;/tr&gt;\\n    &lt;tr&gt;\\n      &lt;th&gt;8&lt;/th&gt;\\n      &lt;td&gt;Potrero Hill&lt;/td&gt;\\n      &lt;td&gt;662.013613&lt;/td&gt;\\n      &lt;td&gt;378401.00&lt;/td&gt;\\n      &lt;td&gt;2817.285714&lt;/td&gt;\\n    &lt;/tr&gt;\\n    &lt;tr&gt;\\n      &lt;th&gt;9&lt;/th&gt;\\n      &lt;td&gt;South Beach&lt;/td&gt;\\n      &lt;td&gt;650.124479&lt;/td&gt;\\n      &lt;td&gt;375805.00&lt;/td&gt;\\n      &lt;td&gt;2099.000000&lt;/td&gt;\\n    &lt;/tr&gt;\\n  &lt;/tbody&gt;\\n&lt;/table&gt;\"},\"id\":\"1379\",\"type\":\"panel.models.markup.HTML\"},{\"attributes\":{\"children\":[{\"id\":\"1375\"}],\"margin\":[0,0,0,0],\"name\":\"Row02757\"},\"id\":\"1374\",\"type\":\"Row\"},{\"attributes\":{\"child\":{\"id\":\"1370\"},\"name\":\"Column02765\",\"title\":\"Parallel Plots Analysis\"},\"id\":\"1380\",\"type\":\"Panel\"}],\"root_ids\":[\"1355\",\"1381\"]},\"title\":\"Bokeh Application\",\"version\":\"2.0.2\"}};\n",
       "  var render_items = [{\"docid\":\"d82fa5bf-4f0c-4577-b823-9e82a63a603b\",\"root_ids\":[\"1355\"],\"roots\":{\"1355\":\"05b3b4c2-01e5-40fc-96cd-0974fee435a2\"}}];\n",
       "  root.Bokeh.embed.embed_items_notebook(docs_json, render_items);\n",
       "  }\n",
       "if (root.Bokeh !== undefined) {\n",
       "    embed_document(root);\n",
       "  } else {\n",
       "    var attempts = 0;\n",
       "    var timer = setInterval(function(root) {\n",
       "      if (root.Bokeh !== undefined) {\n",
       "        clearInterval(timer);\n",
       "        embed_document(root);\n",
       "      } else if (document.readyState == \"complete\") {\n",
       "        attempts++;\n",
       "        if (attempts > 100) {\n",
       "          clearInterval(timer);\n",
       "          console.log(\"Bokeh: ERROR: Unable to run BokehJS code because BokehJS library is missing\");\n",
       "        }\n",
       "      }\n",
       "    }, 10, root)\n",
       "  }\n",
       "})(window);</script>"
      ],
      "text/plain": [
       "Tabs\n",
       "    [0] DataFrame(DataFrame, name='Welcome')\n",
       "    [1] Row\n",
       "        [0] Markdown(str)\n",
       "        [1] Column\n",
       "            [0] Column()\n",
       "            [1] Row\n",
       "                [0] Str(AxesSubplot, name='interactive02661')\n",
       "    [2] Row\n",
       "        [0] Markdown(str)\n",
       "        [1] Str(DataFrameGroupBy)\n",
       "        [2] DataFrame(DataFrame)\n",
       "    [3] Column\n",
       "        [0] Markdown(str)\n",
       "        [1] Column\n",
       "            [0] Column()\n",
       "            [1] Row\n",
       "                [0] DataFrame(DataFrame, name='interactive02753')\n",
       "        [2] Column\n",
       "            [0] Column()\n",
       "            [1] Row\n",
       "                [0] DataFrame(DataFrame, name='interactive02759')"
      ]
     },
     "execution_count": 69,
     "metadata": {
      "application/vnd.holoviews_exec.v0+json": {
       "id": "1355"
      }
     },
     "output_type": "execute_result"
    },
    {
     "data": {
      "image/png": "[encoded data removed]",
      "text/plain": [
       "<Figure size 432x288 with 1 Axes>"
      ]
     },
     "metadata": {
      "needs_background": "light"
     },
     "output_type": "display_data"
    }
   ],
   "source": [
    "row_of_houses = pn.Row('## Housing Units Per Year', housing_units_per_year)\n",
    "row_of_neighborhoods = pn.Row('## Neighborhoods', average_price_by_neighborhood(), top_most_expensive_neighborhoods())\n",
    "plots_as_column = pn.Column(\"# Parallel Coordinates and Categories\", parallel_coordinates, parallel_categories)\n",
    "\n",
    "\n",
    "tabs = pn.Tabs(\n",
    "    (\"Welcome\", neighborhood_map()),\n",
    "    (\"Yearly Market Analysis\", row_of_houses),\n",
    "    (\"Neighborhood Analysis\", row_of_neighborhoods),\n",
    "    (\"Parallel Plots Analysis\", plots_as_column)\n",
    ")\n",
    "tabs"
   ]
  },
  {
   "cell_type": "markdown",
   "metadata": {},
   "source": [
    "## Serve the Panel Dashboard"
   ]
  },
  {
   "cell_type": "code",
   "execution_count": 70,
   "metadata": {},
   "outputs": [
    {
     "ename": "NameError",
     "evalue": "name 'panel' is not defined",
     "output_type": "error",
     "traceback": [
      "\u001b[0;31m---------------------------------------------------------------------------\u001b[0m",
      "\u001b[0;31mNameError\u001b[0m                                 Traceback (most recent call last)",
      "\u001b[0;32m<ipython-input-70-7ea6f3083eaf>\u001b[0m in \u001b[0;36m<module>\u001b[0;34m\u001b[0m\n\u001b[0;32m----> 1\u001b[0;31m \u001b[0mpanel\u001b[0m\u001b[0;34m.\u001b[0m\u001b[0mservable\u001b[0m\u001b[0;34m(\u001b[0m\u001b[0;34m)\u001b[0m\u001b[0;34m\u001b[0m\u001b[0;34m\u001b[0m\u001b[0m\n\u001b[0m",
      "\u001b[0;31mNameError\u001b[0m: name 'panel' is not defined"
     ]
    }
   ],
   "source": [
    "panel.servable()"
   ]
  }
 ],
 "metadata": {
  "file_extension": ".py",
  "kernelspec": {
   "display_name": "Python 3",
   "language": "python",
   "name": "python3"
  },
  "language_info": {
   "codemirror_mode": {
    "name": "ipython",
    "version": 3
   },
   "file_extension": ".py",
   "mimetype": "text/x-python",
   "name": "python",
   "nbconvert_exporter": "python",
   "pygments_lexer": "ipython3",
   "version": "3.8.3"
  },
  "mimetype": "text/x-python",
  "name": "python",
  "npconvert_exporter": "python",
  "pygments_lexer": "ipython3",
  "version": 3
 },
 "nbformat": 4,
 "nbformat_minor": 4
}
